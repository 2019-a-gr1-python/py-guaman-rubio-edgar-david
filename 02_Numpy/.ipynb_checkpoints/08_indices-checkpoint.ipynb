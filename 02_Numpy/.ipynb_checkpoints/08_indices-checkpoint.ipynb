{
 "cells": [
  {
   "cell_type": "markdown",
   "metadata": {},
   "source": [
    "# Indices"
   ]
  },
  {
   "cell_type": "code",
   "execution_count": 1,
   "metadata": {},
   "outputs": [],
   "source": [
    "import numpy as np"
   ]
  },
  {
   "cell_type": "code",
   "execution_count": 4,
   "metadata": {},
   "outputs": [],
   "source": [
    "numeros = np.arange(11)**2"
   ]
  },
  {
   "cell_type": "code",
   "execution_count": 5,
   "metadata": {},
   "outputs": [
    {
     "data": {
      "text/plain": [
       "array([  0,   1,   4,   9,  16,  25,  36,  49,  64,  81, 100])"
      ]
     },
     "execution_count": 5,
     "metadata": {},
     "output_type": "execute_result"
    }
   ],
   "source": [
    "numeros"
   ]
  },
  {
   "cell_type": "code",
   "execution_count": 6,
   "metadata": {},
   "outputs": [],
   "source": [
    "indices = [2,5,7]"
   ]
  },
  {
   "cell_type": "code",
   "execution_count": 7,
   "metadata": {},
   "outputs": [
    {
     "data": {
      "text/plain": [
       "array([ 4, 25, 49])"
      ]
     },
     "execution_count": 7,
     "metadata": {},
     "output_type": "execute_result"
    }
   ],
   "source": [
    "numeros[indices]"
   ]
  },
  {
   "cell_type": "code",
   "execution_count": 59,
   "metadata": {},
   "outputs": [],
   "source": [
    "arreglo_frutas = np.array([[['Piña', 'Manzana'],\n",
    "        ['Pera', 'Melon'],\n",
    "        ['Fresa', 'Uva']],\n",
    "\n",
    "       [['Naranja', 'Papaya'],\n",
    "        ['Frutilla', 'Platano'],\n",
    "        ['Granadilla', 'Sandía']],\n",
    "\n",
    "       [['Audi', 'Mazda'],\n",
    "        ['Ford', 'Fiat'],\n",
    "        ['GM', 'BMW']],\n",
    "\n",
    "       [['Mitsubishi', 'Austin'],\n",
    "        ['Chevrolet', 'Subaru'],\n",
    "        ['Suzuki', 'HOnda']]])"
   ]
  },
  {
   "cell_type": "code",
   "execution_count": 60,
   "metadata": {},
   "outputs": [
    {
     "data": {
      "text/plain": [
       "array([[['Piña', 'Manzana'],\n",
       "        ['Pera', 'Melon'],\n",
       "        ['Fresa', 'Uva']],\n",
       "\n",
       "       [['Naranja', 'Papaya'],\n",
       "        ['Frutilla', 'Platano'],\n",
       "        ['Granadilla', 'Sandía']],\n",
       "\n",
       "       [['Audi', 'Mazda'],\n",
       "        ['Ford', 'Fiat'],\n",
       "        ['GM', 'BMW']],\n",
       "\n",
       "       [['Mitsubishi', 'Austin'],\n",
       "        ['Chevrolet', 'Subaru'],\n",
       "        ['Suzuki', 'HOnda']]], dtype='<U10')"
      ]
     },
     "execution_count": 60,
     "metadata": {},
     "output_type": "execute_result"
    }
   ],
   "source": [
    "arreglo_frutas"
   ]
  },
  {
   "cell_type": "code",
   "execution_count": 125,
   "metadata": {},
   "outputs": [],
   "source": [
    "arreglo_filas = np.array([\n",
    "    [0],[1],[2],[3]\n",
    "])"
   ]
  },
  {
   "cell_type": "code",
   "execution_count": null,
   "metadata": {},
   "outputs": [],
   "source": [
    "arreglo_columnas = np.array([\n",
    "    [0,1],[1,0],[2,0],[3,0]\n",
    "])"
   ]
  },
  {
   "cell_type": "code",
   "execution_count": 129,
   "metadata": {},
   "outputs": [],
   "source": [
    "arreglo_elementos = np.array([\n",
    "    [0,0,0],[1,1,1]\n",
    "])"
   ]
  },
  {
   "cell_type": "code",
   "execution_count": 127,
   "metadata": {},
   "outputs": [],
   "source": []
  },
  {
   "cell_type": "code",
   "execution_count": null,
   "metadata": {},
   "outputs": [],
   "source": []
  },
  {
   "cell_type": "code",
   "execution_count": null,
   "metadata": {},
   "outputs": [],
   "source": []
  }
 ],
 "metadata": {
  "kernelspec": {
   "display_name": "Python 3",
   "language": "python",
   "name": "python3"
  },
  "language_info": {
   "codemirror_mode": {
    "name": "ipython",
    "version": 3
   },
   "file_extension": ".py",
   "mimetype": "text/x-python",
   "name": "python",
   "nbconvert_exporter": "python",
   "pygments_lexer": "ipython3",
   "version": "3.7.1"
  }
 },
 "nbformat": 4,
 "nbformat_minor": 2
}
