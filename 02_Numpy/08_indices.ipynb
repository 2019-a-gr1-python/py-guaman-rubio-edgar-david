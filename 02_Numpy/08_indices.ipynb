{
 "cells": [
  {
   "cell_type": "markdown",
   "metadata": {},
   "source": [
    "# Indices"
   ]
  },
  {
   "cell_type": "code",
   "execution_count": 1,
   "metadata": {},
   "outputs": [],
   "source": [
    "import numpy as np"
   ]
  },
  {
   "cell_type": "code",
   "execution_count": 2,
   "metadata": {},
   "outputs": [],
   "source": [
    "numeros = np.arange(11)**2"
   ]
  },
  {
   "cell_type": "code",
   "execution_count": 3,
   "metadata": {},
   "outputs": [
    {
     "data": {
      "text/plain": [
       "array([  0,   1,   4,   9,  16,  25,  36,  49,  64,  81, 100], dtype=int32)"
      ]
     },
     "execution_count": 3,
     "metadata": {},
     "output_type": "execute_result"
    }
   ],
   "source": [
    "numeros"
   ]
  },
  {
   "cell_type": "code",
   "execution_count": 4,
   "metadata": {},
   "outputs": [],
   "source": [
    "indices = [2,5,7]"
   ]
  },
  {
   "cell_type": "code",
   "execution_count": 5,
   "metadata": {},
   "outputs": [
    {
     "data": {
      "text/plain": [
       "array([ 4, 25, 49], dtype=int32)"
      ]
     },
     "execution_count": 5,
     "metadata": {},
     "output_type": "execute_result"
    }
   ],
   "source": [
    "numeros[indices]"
   ]
  },
  {
   "cell_type": "code",
   "execution_count": 4,
   "metadata": {},
   "outputs": [],
   "source": [
    "arreglo_frutas = np.array([[['Piña', 'Manzana'],\n",
    "        ['Pera', 'Melon'],\n",
    "        ['Fresa', 'Uva']],\n",
    "\n",
    "       [['Naranja', 'Papaya'],\n",
    "        ['Frutilla', 'Platano'],\n",
    "        ['Granadilla', 'Sandía']],\n",
    "\n",
    "       [['Pantera', 'Mono'],\n",
    "        ['Leon', 'Tigre'],\n",
    "        ['Perico', 'Buho']],\n",
    "\n",
    "       [['Perro', 'Aguila'],\n",
    "        ['Gato', 'Cebra'],\n",
    "        ['Koala', 'Puma']]])"
   ]
  },
  {
   "cell_type": "code",
   "execution_count": 5,
   "metadata": {},
   "outputs": [
    {
     "data": {
      "text/plain": [
       "array([[['Piña', 'Manzana'],\n",
       "        ['Pera', 'Melon'],\n",
       "        ['Fresa', 'Uva']],\n",
       "\n",
       "       [['Naranja', 'Papaya'],\n",
       "        ['Frutilla', 'Platano'],\n",
       "        ['Granadilla', 'Sandía']],\n",
       "\n",
       "       [['Pantera', 'Mono'],\n",
       "        ['Leon', 'Tigre'],\n",
       "        ['Perico', 'Buho']],\n",
       "\n",
       "       [['Perro', 'Aguila'],\n",
       "        ['Gato', 'Cebra'],\n",
       "        ['Koala', 'Puma']]], dtype='<U10')"
      ]
     },
     "execution_count": 5,
     "metadata": {},
     "output_type": "execute_result"
    }
   ],
   "source": [
    "arreglo_frutas"
   ]
  },
  {
   "cell_type": "code",
   "execution_count": 6,
   "metadata": {},
   "outputs": [
    {
     "data": {
      "text/plain": [
       "(4, 3, 2)"
      ]
     },
     "execution_count": 6,
     "metadata": {},
     "output_type": "execute_result"
    }
   ],
   "source": [
    "arreglo_frutas.shape"
   ]
  },
  {
   "cell_type": "code",
   "execution_count": 7,
   "metadata": {},
   "outputs": [],
   "source": [
    "#La primera dimensión es de 4, por esa razón solo el arreglo\n",
    "#solo puede tener valores de 0,1,2,3.\n",
    "arreglo_filas = np.array([[0,0,0],[1,1,1],[2,2,2],[3,3,3]])"
   ]
  },
  {
   "cell_type": "code",
   "execution_count": 8,
   "metadata": {},
   "outputs": [],
   "source": [
    "#La segunda dimensión es de 3, por esa razón solo el arreglo\n",
    "#solo puede tener valores de 0,1,2.\n",
    "arreglo_columnas = np.array([[0,1,2],[0,1,2],[0,1,2],[0,1,2]])"
   ]
  },
  {
   "cell_type": "code",
   "execution_count": 9,
   "metadata": {},
   "outputs": [
    {
     "data": {
      "text/plain": [
       "array([[['Piña', 'Manzana'],\n",
       "        ['Pera', 'Melon'],\n",
       "        ['Fresa', 'Uva']],\n",
       "\n",
       "       [['Naranja', 'Papaya'],\n",
       "        ['Frutilla', 'Platano'],\n",
       "        ['Granadilla', 'Sandía']],\n",
       "\n",
       "       [['Pantera', 'Mono'],\n",
       "        ['Leon', 'Tigre'],\n",
       "        ['Perico', 'Buho']],\n",
       "\n",
       "       [['Perro', 'Aguila'],\n",
       "        ['Gato', 'Cebra'],\n",
       "        ['Koala', 'Puma']]], dtype='<U10')"
      ]
     },
     "execution_count": 9,
     "metadata": {},
     "output_type": "execute_result"
    }
   ],
   "source": [
    "arreglo_frutas[arreglo_filas, arreglo_columnas]"
   ]
  },
  {
   "cell_type": "code",
   "execution_count": 10,
   "metadata": {},
   "outputs": [
    {
     "data": {
      "text/plain": [
       "numpy.ndarray"
      ]
     },
     "execution_count": 10,
     "metadata": {},
     "output_type": "execute_result"
    }
   ],
   "source": [
    "type(arreglo_frutas)"
   ]
  },
  {
   "cell_type": "code",
   "execution_count": 11,
   "metadata": {},
   "outputs": [
    {
     "data": {
      "text/plain": [
       "[[['Piña', 'Manzana'], ['Pera', 'Melon'], ['Fresa', 'Uva']],\n",
       " [['Naranja', 'Papaya'], ['Frutilla', 'Platano'], ['Granadilla', 'Sandía']],\n",
       " [['Pantera', 'Mono'], ['Leon', 'Tigre'], ['Perico', 'Buho']],\n",
       " [['Perro', 'Aguila'], ['Gato', 'Cebra'], ['Koala', 'Puma']]]"
      ]
     },
     "execution_count": 11,
     "metadata": {},
     "output_type": "execute_result"
    }
   ],
   "source": [
    "lista_frutas = arreglo_frutas.tolist()\n",
    "lista_frutas"
   ]
  },
  {
   "cell_type": "code",
   "execution_count": 37,
   "metadata": {},
   "outputs": [],
   "source": [
    "str1 = ''.join(str(e) for e in lista_frutas)"
   ]
  },
  {
   "cell_type": "code",
   "execution_count": 38,
   "metadata": {},
   "outputs": [
    {
     "name": "stdout",
     "output_type": "stream",
     "text": [
      "[['Piña', 'Manzana'], ['Pera', 'Melon'], ['Fresa', 'Uva']][['Naranja', 'Papaya'], ['Frutilla', 'Platano'], ['Granadilla', 'Sandía']][['Pantera', 'Mono'], ['Leon', 'Tigre'], ['Perico', 'Buho']][['Perro', 'Aguila'], ['Gato', 'Cebra'], ['Koala', 'Puma']]\n"
     ]
    }
   ],
   "source": [
    "print(str1)"
   ]
  },
  {
   "cell_type": "code",
   "execution_count": 47,
   "metadata": {},
   "outputs": [
    {
     "data": {
      "text/plain": [
       "\"'Piña', 'Manzana'], 'Pera', 'Melon'], 'Fresa', 'Uva']]'Naranja', 'Papaya'], 'Frutilla', 'Platano'], 'Granadilla', 'Sandía']]'Pantera', 'Mono'], 'Leon', 'Tigre'], 'Perico', 'Buho']]'Perro', 'Aguila'], 'Gato', 'Cebra'], 'Koala', 'Puma']]\""
      ]
     },
     "execution_count": 47,
     "metadata": {},
     "output_type": "execute_result"
    }
   ],
   "source": [
    "str2 = str1.replace(\"[\",'')\n",
    "str2"
   ]
  },
  {
   "cell_type": "code",
   "execution_count": 51,
   "metadata": {},
   "outputs": [
    {
     "data": {
      "text/plain": [
       "\"'Piña', 'Manzana', 'Pera', 'Melon', 'Fresa', 'Uva''Naranja', 'Papaya', 'Frutilla', 'Platano', 'Granadilla', 'Sandía''Pantera', 'Mono', 'Leon', 'Tigre', 'Perico', 'Buho''Perro', 'Aguila', 'Gato', 'Cebra', 'Koala', 'Puma'\""
      ]
     },
     "execution_count": 51,
     "metadata": {},
     "output_type": "execute_result"
    }
   ],
   "source": [
    "str2 = str2.replace(\"]\",'')\n",
    "str2"
   ]
  },
  {
   "cell_type": "code",
   "execution_count": 52,
   "metadata": {},
   "outputs": [
    {
     "name": "stdout",
     "output_type": "stream",
     "text": [
      "['P', 'P', 'P', 'P', 'P', 'P', 'P', 'P']\n"
     ]
    }
   ],
   "source": [
    "print( list(filter(lambda x: x.startswith(\"P\"), str2)))"
   ]
  },
  {
   "cell_type": "code",
   "execution_count": null,
   "metadata": {},
   "outputs": [],
   "source": []
  }
 ],
 "metadata": {
  "kernelspec": {
   "display_name": "Python 3",
   "language": "python",
   "name": "python3"
  },
  "language_info": {
   "codemirror_mode": {
    "name": "ipython",
    "version": 3
   },
   "file_extension": ".py",
   "mimetype": "text/x-python",
   "name": "python",
   "nbconvert_exporter": "python",
   "pygments_lexer": "ipython3",
   "version": "3.7.3"
  }
 },
 "nbformat": 4,
 "nbformat_minor": 2
}
