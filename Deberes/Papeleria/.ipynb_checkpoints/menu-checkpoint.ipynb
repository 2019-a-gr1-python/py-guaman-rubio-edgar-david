{
 "cells": [
  {
   "cell_type": "code",
   "execution_count": null,
   "metadata": {},
   "outputs": [],
   "source": [
    "%run producto.ipynb\n",
    "\n",
    "def menu():\n",
    "    usuario = 1\n",
    "    while(usuario!=3):\n",
    "        print('---Bienvenido a la papeleria PY---')\n",
    "        print('Seleccione el tipo de usuario:')\n",
    "        print('1.- Distribuidor.')\n",
    "        print('2.- Gerente.')\n",
    "        print('3.- Salir del programa')\n",
    "        usuario = input('Opción:')\n",
    "        if usuario == '1':\n",
    "            opcion = 1\n",
    "            while(opcion<3):\n",
    "                print('Seleccione que desea realizar:')\n",
    "                print('1.- Consultar la lista de productos.')\n",
    "                print('2.- Modificar un producto')\n",
    "                print('3.- Regresar')\n",
    "                opcion = input('Opción:')\n",
    "        if usuario == '2':\n",
    "            opcion1 = 1\n",
    "            while(opcion1!=5):\n",
    "                print('Seleccione que desea realizar:')\n",
    "                print('1.- Consultar la lista de productos.')\n",
    "                print('2.- Registrar un producto.')\n",
    "                print('3.- Modificar')\n",
    "                print('4.- Eliminar un producto')\n",
    "                print('5.- Salir del programa')\n",
    "                opcion1 = input('Opción: ')\n",
    "                if opcion == '1':\n",
    "                    Producto.listar_productos()\n",
    "                if opcion == '2':\n",
    "                    Producto.registrar_producto()\n",
    "                if opcion == '3':\n",
    "                    nombrePro = input('Ingrese el nombre del producto:')\n",
    "                if opcion == '4':\n",
    "                    nombrePro = input('Ingrese el nombre del producto:')\n",
    "\n",
    "menu()"
   ]
  },
  {
   "cell_type": "code",
   "execution_count": null,
   "metadata": {},
   "outputs": [],
   "source": []
  },
  {
   "cell_type": "code",
   "execution_count": null,
   "metadata": {},
   "outputs": [],
   "source": []
  }
 ],
 "metadata": {
  "kernelspec": {
   "display_name": "Python 3",
   "language": "python",
   "name": "python3"
  },
  "language_info": {
   "codemirror_mode": {
    "name": "ipython",
    "version": 3
   },
   "file_extension": ".py",
   "mimetype": "text/x-python",
   "name": "python",
   "nbconvert_exporter": "python",
   "pygments_lexer": "ipython3",
   "version": "3.7.3"
  }
 },
 "nbformat": 4,
 "nbformat_minor": 2
}
