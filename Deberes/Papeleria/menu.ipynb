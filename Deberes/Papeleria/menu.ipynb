{
 "cells": [
  {
   "cell_type": "code",
   "execution_count": null,
   "metadata": {},
   "outputs": [
    {
     "name": "stdout",
     "output_type": "stream",
     "text": [
      "\n",
      "---Bienvenido a la papeleria PY---\n",
      "\n",
      "\n",
      "Seleccione que desea realizar:\n",
      "Productos:\n",
      "1.- Consultar la lista de productos.\n",
      "2.- Registrar un producto.\n",
      "3.- Modificar un producto\n",
      "4.- Eliminar un producto\n",
      "\n",
      "Distribuidores\n",
      "5.- Consultar la lista de distribuidores.\n",
      "6.- Registrar un distribuidor.\n",
      "7.- Modificar un distribuidor.\n",
      "8.- Eliminar un distribuidor.\n",
      "9.- Salir del programa\n"
     ]
    }
   ],
   "source": [
    "%run producto.ipynb\n",
    "%run distribuidor.ipynb\n",
    "\n",
    "def menu():\n",
    "    opcion = 1\n",
    "    while(opcion<9):\n",
    "        print('\\n---Bienvenido a la papeleria PY---\\n')\n",
    "        print('\\nSeleccione que desea realizar:')\n",
    "        print('Productos:')\n",
    "        print('1.- Consultar la lista de productos.')\n",
    "        print('2.- Registrar un producto.')\n",
    "        print('3.- Modificar un producto')\n",
    "        print('4.- Eliminar un producto')\n",
    "        print('\\nDistribuidores')\n",
    "        print('5.- Consultar la lista de distribuidores.')\n",
    "        print('6.- Registrar un distribuidor.')\n",
    "        print('7.- Modificar un distribuidor.')\n",
    "        print('8.- Eliminar un distribuidor.')\n",
    "        print('9.- Salir del programa')\n",
    "        opcion = int(input('Opción:'))\n",
    "        if opcion == 1:\n",
    "            Producto.listar_productos()\n",
    "        if opcion == 2:\n",
    "            Producto.registrar_producto()\n",
    "        if opcion == 3:\n",
    "            Producto.actualizar_producto()\n",
    "        if opcion == 4:\n",
    "            Producto.eliminar_producto()\n",
    "        if opcion == 5:\n",
    "            Distribuidor.listar_distribuidores()\n",
    "        if opcion == 6:\n",
    "            Distribuidor.registrar_distribuidor()\n",
    "        if opcion == 7:\n",
    "            Distribuidor.actualizar_distribuidor()\n",
    "        if opcion == 8:\n",
    "            Distribuidor.eliminar_distribuidor()\n",
    "            \n",
    "menu()"
   ]
  },
  {
   "cell_type": "code",
   "execution_count": null,
   "metadata": {},
   "outputs": [],
   "source": []
  },
  {
   "cell_type": "code",
   "execution_count": null,
   "metadata": {},
   "outputs": [],
   "source": []
  }
 ],
 "metadata": {
  "kernelspec": {
   "display_name": "Python 3",
   "language": "python",
   "name": "python3"
  },
  "language_info": {
   "codemirror_mode": {
    "name": "ipython",
    "version": 3
   },
   "file_extension": ".py",
   "mimetype": "text/x-python",
   "name": "python",
   "nbconvert_exporter": "python",
   "pygments_lexer": "ipython3",
   "version": "3.7.1"
  }
 },
 "nbformat": 4,
 "nbformat_minor": 2
}
