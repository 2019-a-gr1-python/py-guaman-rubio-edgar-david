{
 "cells": [
  {
   "cell_type": "markdown",
   "metadata": {},
   "source": [
    "# Uso de Numpy"
   ]
  },
  {
   "cell_type": "markdown",
   "metadata": {},
   "source": [
    "### Leo datos de un archivo csv y los guardo en un arreglo"
   ]
  },
  {
   "cell_type": "code",
   "execution_count": 1,
   "metadata": {},
   "outputs": [],
   "source": [
    "import numpy as np"
   ]
  },
  {
   "cell_type": "code",
   "execution_count": 2,
   "metadata": {},
   "outputs": [
    {
     "data": {
      "text/plain": [
       "array([[ 2.,  4.,  6.,  8., 10., 12., 14., 16., 18.],\n",
       "       [20., 12., 23., 34., 45., 56., 67., 78., 89.],\n",
       "       [90., 43., 25., 47., 65., 48., 57., 39., 11.],\n",
       "       [16., 23., 35., 34., 45., 44., 66., 55., 88.]])"
      ]
     },
     "execution_count": 2,
     "metadata": {},
     "output_type": "execute_result"
    }
   ],
   "source": [
    "path = './datos/edades.csv'\n",
    "arreglo_edades = np.genfromtxt(path,delimiter=',')\n",
    "arreglo_edades"
   ]
  },
  {
   "cell_type": "markdown",
   "metadata": {},
   "source": [
    "### Obtengo la suma de todos los datos"
   ]
  },
  {
   "cell_type": "code",
   "execution_count": 3,
   "metadata": {},
   "outputs": [
    {
     "data": {
      "text/plain": [
       "1345.0"
      ]
     },
     "execution_count": 3,
     "metadata": {},
     "output_type": "execute_result"
    }
   ],
   "source": [
    "suma = arreglo_edades.sum()\n",
    "suma"
   ]
  },
  {
   "cell_type": "markdown",
   "metadata": {},
   "source": [
    "### Obtengo el valor mínimo de los datos"
   ]
  },
  {
   "cell_type": "code",
   "execution_count": 4,
   "metadata": {},
   "outputs": [
    {
     "data": {
      "text/plain": [
       "2.0"
      ]
     },
     "execution_count": 4,
     "metadata": {},
     "output_type": "execute_result"
    }
   ],
   "source": [
    "valorMin = arreglo_edades.min()\n",
    "valorMin"
   ]
  },
  {
   "cell_type": "markdown",
   "metadata": {},
   "source": [
    "### Obtengo el valor máximo de los datos"
   ]
  },
  {
   "cell_type": "code",
   "execution_count": 5,
   "metadata": {},
   "outputs": [
    {
     "data": {
      "text/plain": [
       "90.0"
      ]
     },
     "execution_count": 5,
     "metadata": {},
     "output_type": "execute_result"
    }
   ],
   "source": [
    "valorMax = arreglo_edades.max()\n",
    "valorMax"
   ]
  },
  {
   "cell_type": "markdown",
   "metadata": {},
   "source": [
    "### Ordeno los datos"
   ]
  },
  {
   "cell_type": "code",
   "execution_count": 6,
   "metadata": {},
   "outputs": [
    {
     "name": "stdout",
     "output_type": "stream",
     "text": [
      "[ 2.  4.  6.  8. 10. 11. 12. 12. 14. 16. 16. 18. 20. 23. 23. 25. 34. 34.\n",
      " 35. 39. 43. 44. 45. 45. 47. 48. 55. 56. 57. 65. 66. 67. 78. 88. 89. 90.]\n"
     ]
    }
   ],
   "source": [
    "arreglo_ordenado = np.sort(arreglo_edades.flatten())\n",
    "print(arreglo_ordenado)"
   ]
  },
  {
   "cell_type": "markdown",
   "metadata": {},
   "source": [
    "### Obtengo la media de los datos"
   ]
  },
  {
   "cell_type": "code",
   "execution_count": 7,
   "metadata": {},
   "outputs": [
    {
     "name": "stdout",
     "output_type": "stream",
     "text": [
      "37.361111111111114\n"
     ]
    }
   ],
   "source": [
    "media = np.mean(arreglo_ordenado)\n",
    "print(media)"
   ]
  },
  {
   "cell_type": "markdown",
   "metadata": {},
   "source": [
    "### Obtengo la mediana de los datos"
   ]
  },
  {
   "cell_type": "code",
   "execution_count": 8,
   "metadata": {},
   "outputs": [
    {
     "name": "stdout",
     "output_type": "stream",
     "text": [
      "34.5\n"
     ]
    }
   ],
   "source": [
    "mediana = np.median(arreglo_ordenado)\n",
    "print(mediana)"
   ]
  },
  {
   "cell_type": "markdown",
   "metadata": {},
   "source": [
    "### Obtengo la varianza de los datos"
   ]
  },
  {
   "cell_type": "code",
   "execution_count": 9,
   "metadata": {},
   "outputs": [
    {
     "name": "stdout",
     "output_type": "stream",
     "text": [
      "645.2307098765433\n"
     ]
    }
   ],
   "source": [
    "varianza = np.var(arreglo_ordenado)\n",
    "print(varianza)"
   ]
  },
  {
   "cell_type": "markdown",
   "metadata": {},
   "source": [
    "### Obtengo la desviación estándar de los datos"
   ]
  },
  {
   "cell_type": "code",
   "execution_count": 10,
   "metadata": {},
   "outputs": [
    {
     "name": "stdout",
     "output_type": "stream",
     "text": [
      "25.401391888566724\n"
     ]
    }
   ],
   "source": [
    "desviacion = np.std(arreglo_ordenado)\n",
    "print(desviacion)"
   ]
  },
  {
   "cell_type": "markdown",
   "metadata": {},
   "source": [
    "### Sumo 5 a todos los valores del arreglo"
   ]
  },
  {
   "cell_type": "code",
   "execution_count": 11,
   "metadata": {},
   "outputs": [
    {
     "data": {
      "text/plain": [
       "array([ 7.,  9., 11., 13., 15., 16., 17., 17., 19., 21., 21., 23., 25.,\n",
       "       28., 28., 30., 39., 39., 40., 44., 48., 49., 50., 50., 52., 53.,\n",
       "       60., 61., 62., 70., 71., 72., 83., 93., 94., 95.])"
      ]
     },
     "execution_count": 11,
     "metadata": {},
     "output_type": "execute_result"
    }
   ],
   "source": [
    "arreglo_ordenado = arreglo_ordenado+5\n",
    "arreglo_ordenado"
   ]
  },
  {
   "cell_type": "markdown",
   "metadata": {},
   "source": [
    "### Guardo los nuevos valores en un nuevo archivo csv"
   ]
  },
  {
   "cell_type": "code",
   "execution_count": 12,
   "metadata": {},
   "outputs": [],
   "source": [
    "path1 = './datos/edadesModificadas.csv'"
   ]
  },
  {
   "cell_type": "code",
   "execution_count": 13,
   "metadata": {},
   "outputs": [],
   "source": [
    "np.savetxt(path1, \n",
    "           arreglo_ordenado, \n",
    "           delimiter=\",\",\n",
    "           fmt='%4d')"
   ]
  },
  {
   "cell_type": "markdown",
   "metadata": {},
   "source": [
    "### Realizo un reshape del arreglo"
   ]
  },
  {
   "cell_type": "code",
   "execution_count": 14,
   "metadata": {},
   "outputs": [
    {
     "data": {
      "text/plain": [
       "array([[ 7.,  9., 11., 13., 15., 16.],\n",
       "       [17., 17., 19., 21., 21., 23.],\n",
       "       [25., 28., 28., 30., 39., 39.],\n",
       "       [40., 44., 48., 49., 50., 50.],\n",
       "       [52., 53., 60., 61., 62., 70.],\n",
       "       [71., 72., 83., 93., 94., 95.]])"
      ]
     },
     "execution_count": 14,
     "metadata": {},
     "output_type": "execute_result"
    }
   ],
   "source": [
    "matriz_edades = arreglo_ordenado.reshape(6,6)\n",
    "matriz_edades"
   ]
  },
  {
   "cell_type": "markdown",
   "metadata": {},
   "source": [
    "### Obtengo la matriz transpuesta de la matriz anterior"
   ]
  },
  {
   "cell_type": "code",
   "execution_count": 15,
   "metadata": {},
   "outputs": [
    {
     "data": {
      "text/plain": [
       "array([[ 7., 17., 25., 40., 52., 71.],\n",
       "       [ 9., 17., 28., 44., 53., 72.],\n",
       "       [11., 19., 28., 48., 60., 83.],\n",
       "       [13., 21., 30., 49., 61., 93.],\n",
       "       [15., 21., 39., 50., 62., 94.],\n",
       "       [16., 23., 39., 50., 70., 95.]])"
      ]
     },
     "execution_count": 15,
     "metadata": {},
     "output_type": "execute_result"
    }
   ],
   "source": [
    "matriz_transpuesta = matriz_edades.T\n",
    "matriz_transpuesta"
   ]
  },
  {
   "cell_type": "markdown",
   "metadata": {},
   "source": [
    "### La matriz transpuesta de la transpuesta es la matriz original"
   ]
  },
  {
   "cell_type": "code",
   "execution_count": 16,
   "metadata": {},
   "outputs": [
    {
     "data": {
      "text/plain": [
       "array([[ True,  True,  True,  True,  True,  True],\n",
       "       [ True,  True,  True,  True,  True,  True],\n",
       "       [ True,  True,  True,  True,  True,  True],\n",
       "       [ True,  True,  True,  True,  True,  True],\n",
       "       [ True,  True,  True,  True,  True,  True],\n",
       "       [ True,  True,  True,  True,  True,  True]])"
      ]
     },
     "execution_count": 16,
     "metadata": {},
     "output_type": "execute_result"
    }
   ],
   "source": [
    "matriz_transpuesta.T == matriz_edades"
   ]
  },
  {
   "cell_type": "markdown",
   "metadata": {},
   "source": [
    "### Usando un iterador dentro de la matriz"
   ]
  },
  {
   "cell_type": "code",
   "execution_count": 17,
   "metadata": {},
   "outputs": [],
   "source": [
    "for i in np.nditer(matriz_edades,order=\"F\",op_flags=['readwrite']):\n",
    "    if i<18:\n",
    "        i[...] = -1\n",
    "    elif i>18 and i<45:\n",
    "        i[...] = 0\n",
    "    else:\n",
    "        i[...] = 1"
   ]
  },
  {
   "cell_type": "code",
   "execution_count": 18,
   "metadata": {},
   "outputs": [
    {
     "data": {
      "text/plain": [
       "array([[-1., -1., -1., -1., -1., -1.],\n",
       "       [-1., -1.,  0.,  0.,  0.,  0.],\n",
       "       [ 0.,  0.,  0.,  0.,  0.,  0.],\n",
       "       [ 0.,  0.,  1.,  1.,  1.,  1.],\n",
       "       [ 1.,  1.,  1.,  1.,  1.,  1.],\n",
       "       [ 1.,  1.,  1.,  1.,  1.,  1.]])"
      ]
     },
     "execution_count": 18,
     "metadata": {},
     "output_type": "execute_result"
    }
   ],
   "source": [
    "matriz_edades"
   ]
  },
  {
   "cell_type": "markdown",
   "metadata": {},
   "source": [
    "### Uso de linspace vs arange"
   ]
  },
  {
   "cell_type": "code",
   "execution_count": 22,
   "metadata": {},
   "outputs": [
    {
     "name": "stdout",
     "output_type": "stream",
     "text": [
      "[0.   1.25 2.5  3.75 5.  ]\n",
      "[ 0  5 10 15 20]\n"
     ]
    }
   ],
   "source": [
    "arreglolin=np.linspace(0,5,5)\n",
    "arregloaran=np.arange(0,25,5)\n",
    "print(arreglolin)\n",
    "print(arregloaran)"
   ]
  },
  {
   "cell_type": "markdown",
   "metadata": {},
   "source": [
    "### Creación de un gráfico con los datos del archivo csv"
   ]
  },
  {
   "cell_type": "code",
   "execution_count": 26,
   "metadata": {},
   "outputs": [],
   "source": [
    "arreglo_ordenado = np.sort(arreglo_edades.flatten())\n",
    "arreglo_uno = []\n",
    "for index in arreglo_ordenado:\n",
    "    arreglo_uno.append(int(index))"
   ]
  },
  {
   "cell_type": "code",
   "execution_count": 27,
   "metadata": {},
   "outputs": [
    {
     "data": {
      "image/png": "[encoded data removed]",
      "text/plain": [
       "<Figure size 432x288 with 1 Axes>"
      ]
     },
     "metadata": {
      "needs_background": "light"
     },
     "output_type": "display_data"
    }
   ],
   "source": [
    "import matplotlib.pyplot as plt\n",
    "X = arreglo_uno\n",
    "y = np.linspace(2,95,36)\n",
    "plt.plot(y,X)\n",
    "plt.show()"
   ]
  },
  {
   "cell_type": "markdown",
   "metadata": {},
   "source": [
    "### Uso de la función seno"
   ]
  },
  {
   "cell_type": "code",
   "execution_count": 12,
   "metadata": {},
   "outputs": [
    {
     "data": {
      "text/plain": [
       "array([ 0.90929743, -0.7568025 , -0.2794155 ,  0.98935825, -0.54402111,\n",
       "       -0.99999021, -0.53657292, -0.53657292,  0.99060736, -0.28790332,\n",
       "       -0.28790332, -0.75098725,  0.91294525, -0.8462204 , -0.8462204 ,\n",
       "       -0.13235175,  0.52908269,  0.52908269, -0.42818267,  0.96379539,\n",
       "       -0.83177474,  0.01770193,  0.85090352,  0.85090352,  0.12357312,\n",
       "       -0.76825466, -0.99975517, -0.521551  ,  0.43616476,  0.82682868,\n",
       "       -0.02655115, -0.85551998,  0.51397846,  0.0353983 ,  0.86006941,\n",
       "        0.89399666])"
      ]
     },
     "execution_count": 12,
     "metadata": {},
     "output_type": "execute_result"
    }
   ],
   "source": [
    "arreglo_seno = np.sin(arreglo_ordenado)\n",
    "arreglo_seno"
   ]
  },
  {
   "cell_type": "markdown",
   "metadata": {},
   "source": [
    "### Uso de la función coseno"
   ]
  },
  {
   "cell_type": "code",
   "execution_count": 13,
   "metadata": {},
   "outputs": [
    {
     "data": {
      "text/plain": [
       "array([ 0.90929743, -0.7568025 , -0.2794155 ,  0.98935825, -0.54402111,\n",
       "       -0.99999021, -0.53657292, -0.53657292,  0.99060736, -0.28790332,\n",
       "       -0.28790332, -0.75098725,  0.91294525, -0.8462204 , -0.8462204 ,\n",
       "       -0.13235175,  0.52908269,  0.52908269, -0.42818267,  0.96379539,\n",
       "       -0.83177474,  0.01770193,  0.85090352,  0.85090352,  0.12357312,\n",
       "       -0.76825466, -0.99975517, -0.521551  ,  0.43616476,  0.82682868,\n",
       "       -0.02655115, -0.85551998,  0.51397846,  0.0353983 ,  0.86006941,\n",
       "        0.89399666])"
      ]
     },
     "execution_count": 13,
     "metadata": {},
     "output_type": "execute_result"
    }
   ],
   "source": [
    "arreglo_coseno = np.sin(arreglo_ordenado)\n",
    "arreglo_coseno"
   ]
  },
  {
   "cell_type": "markdown",
   "metadata": {},
   "source": [
    "### Uso de la función tangente"
   ]
  },
  {
   "cell_type": "code",
   "execution_count": 14,
   "metadata": {},
   "outputs": [
    {
     "data": {
      "text/plain": [
       "array([ 0.90929743, -0.7568025 , -0.2794155 ,  0.98935825, -0.54402111,\n",
       "       -0.99999021, -0.53657292, -0.53657292,  0.99060736, -0.28790332,\n",
       "       -0.28790332, -0.75098725,  0.91294525, -0.8462204 , -0.8462204 ,\n",
       "       -0.13235175,  0.52908269,  0.52908269, -0.42818267,  0.96379539,\n",
       "       -0.83177474,  0.01770193,  0.85090352,  0.85090352,  0.12357312,\n",
       "       -0.76825466, -0.99975517, -0.521551  ,  0.43616476,  0.82682868,\n",
       "       -0.02655115, -0.85551998,  0.51397846,  0.0353983 ,  0.86006941,\n",
       "        0.89399666])"
      ]
     },
     "execution_count": 14,
     "metadata": {},
     "output_type": "execute_result"
    }
   ],
   "source": [
    "arreglo_tangente = np.sin(arreglo_ordenado)\n",
    "arreglo_tangente"
   ]
  },
  {
   "cell_type": "code",
   "execution_count": null,
   "metadata": {},
   "outputs": [],
   "source": []
  }
 ],
 "metadata": {
  "kernelspec": {
   "display_name": "Python 3",
   "language": "python",
   "name": "python3"
  },
  "language_info": {
   "codemirror_mode": {
    "name": "ipython",
    "version": 3
   },
   "file_extension": ".py",
   "mimetype": "text/x-python",
   "name": "python",
   "nbconvert_exporter": "python",
   "pygments_lexer": "ipython3",
   "version": "3.7.3"
  }
 },
 "nbformat": 4,
 "nbformat_minor": 2
}
