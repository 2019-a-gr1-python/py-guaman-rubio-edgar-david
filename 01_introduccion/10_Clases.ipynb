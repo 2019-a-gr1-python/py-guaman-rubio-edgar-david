{
 "cells": [
  {
   "cell_type": "markdown",
   "metadata": {},
   "source": [
    "# Clases"
   ]
  },
  {
   "cell_type": "code",
   "execution_count": 1,
   "metadata": {},
   "outputs": [],
   "source": [
    "class Nada:\n",
    "    pass"
   ]
  },
  {
   "cell_type": "code",
   "execution_count": 2,
   "metadata": {},
   "outputs": [],
   "source": [
    "una_nada = Nada()"
   ]
  },
  {
   "cell_type": "code",
   "execution_count": 3,
   "metadata": {},
   "outputs": [
    {
     "name": "stdout",
     "output_type": "stream",
     "text": [
      "<__main__.Nada object at 0x1110bc940>\n"
     ]
    }
   ],
   "source": [
    "print(una_nada)"
   ]
  },
  {
   "cell_type": "code",
   "execution_count": 4,
   "metadata": {},
   "outputs": [
    {
     "name": "stdout",
     "output_type": "stream",
     "text": [
      "<class '__main__.Nada'>\n"
     ]
    }
   ],
   "source": [
    "print(type(una_nada))"
   ]
  },
  {
   "cell_type": "code",
   "execution_count": 14,
   "metadata": {},
   "outputs": [],
   "source": [
    "class Auto:\n",
    "    color = 'azul'\n",
    "    def __init__(self):\n",
    "        print('Se esta inicializando el auto')"
   ]
  },
  {
   "cell_type": "code",
   "execution_count": 15,
   "metadata": {},
   "outputs": [
    {
     "name": "stdout",
     "output_type": "stream",
     "text": [
      "Se esta inicializando el auto\n"
     ]
    }
   ],
   "source": [
    "coche = Auto()"
   ]
  },
  {
   "cell_type": "code",
   "execution_count": 7,
   "metadata": {},
   "outputs": [
    {
     "data": {
      "text/plain": [
       "<__main__.Auto at 0x111091fd0>"
      ]
     },
     "execution_count": 7,
     "metadata": {},
     "output_type": "execute_result"
    }
   ],
   "source": [
    "coche"
   ]
  },
  {
   "cell_type": "code",
   "execution_count": 13,
   "metadata": {},
   "outputs": [
    {
     "data": {
      "text/plain": [
       "'azul'"
      ]
     },
     "execution_count": 13,
     "metadata": {},
     "output_type": "execute_result"
    }
   ],
   "source": [
    "coche.color"
   ]
  },
  {
   "cell_type": "code",
   "execution_count": 18,
   "metadata": {},
   "outputs": [],
   "source": [
    "class Auto:\n",
    "    color = 'azul'\n",
    "    placa = ''\n",
    "    def __init__(self, placa):\n",
    "        print('Se esta inicializando el auto')\n",
    "        self.placa = placa"
   ]
  },
  {
   "cell_type": "code",
   "execution_count": 19,
   "metadata": {},
   "outputs": [
    {
     "name": "stdout",
     "output_type": "stream",
     "text": [
      "Se esta inicializando el auto\n"
     ]
    }
   ],
   "source": [
    "coche = Auto('ABC-123')"
   ]
  },
  {
   "cell_type": "code",
   "execution_count": 20,
   "metadata": {},
   "outputs": [
    {
     "data": {
      "text/plain": [
       "'azul'"
      ]
     },
     "execution_count": 20,
     "metadata": {},
     "output_type": "execute_result"
    }
   ],
   "source": [
    "coche.color"
   ]
  },
  {
   "cell_type": "code",
   "execution_count": 21,
   "metadata": {},
   "outputs": [
    {
     "data": {
      "text/plain": [
       "'ABC-123'"
      ]
     },
     "execution_count": 21,
     "metadata": {},
     "output_type": "execute_result"
    }
   ],
   "source": [
    "coche.placa"
   ]
  },
  {
   "cell_type": "code",
   "execution_count": 26,
   "metadata": {},
   "outputs": [],
   "source": [
    "class Auto:\n",
    "    color = 'azul'\n",
    "    placa = ''\n",
    "    def __init__(self, placa):\n",
    "        print('Se esta inicializando el auto')\n",
    "        self.placa = placa\n",
    "    def __str__(self):\n",
    "        return f'Color: {self.color}\\n' +f'Placa: {self.placa}'"
   ]
  },
  {
   "cell_type": "code",
   "execution_count": 35,
   "metadata": {},
   "outputs": [
    {
     "name": "stdout",
     "output_type": "stream",
     "text": [
      "Se esta inicializando el auto\n"
     ]
    }
   ],
   "source": [
    "coche = Auto('CBD-23')"
   ]
  },
  {
   "cell_type": "code",
   "execution_count": 28,
   "metadata": {},
   "outputs": [
    {
     "name": "stdout",
     "output_type": "stream",
     "text": [
      "Color: azul\n",
      "Placa: CBD-23\n"
     ]
    }
   ],
   "source": [
    "print(coche)"
   ]
  },
  {
   "cell_type": "code",
   "execution_count": 34,
   "metadata": {},
   "outputs": [],
   "source": [
    "class Auto:\n",
    "    color = 'azul' #propiedad\n",
    "    placa = ''\n",
    "    def __init__(self, placa):\n",
    "        print('Se esta inicializando el auto')\n",
    "        self.placa = placa\n",
    "    def __str__(self): #Devuelve un 'str'\n",
    "        return f'Color: {self.color}\\n' +f'Placa: {self.placa}'\n",
    "    \n",
    "    def calcular_impuesto(self, anio):\n",
    "        total_a_pagar = self.__calculo(anio)\n",
    "        print(f'El valor a pagar es: {total_a_pagar}')\n",
    "        return total_a_pagar\n",
    "        \n",
    "    def __calculo(self, anio): #con el guión bajo antes de la función ya se convierte en privado\n",
    "        return (anio/2) + 1234"
   ]
  },
  {
   "cell_type": "code",
   "execution_count": 31,
   "metadata": {},
   "outputs": [
    {
     "ename": "AttributeError",
     "evalue": "'Auto' object has no attribute '__calculo'",
     "output_type": "error",
     "traceback": [
      "\u001b[0;31m---------------------------------------------------------------------------\u001b[0m",
      "\u001b[0;31mAttributeError\u001b[0m                            Traceback (most recent call last)",
      "\u001b[0;32m<ipython-input-31-4fd83b8230d7>\u001b[0m in \u001b[0;36m<module>\u001b[0;34m\u001b[0m\n\u001b[0;32m----> 1\u001b[0;31m \u001b[0mcoche\u001b[0m\u001b[0;34m.\u001b[0m\u001b[0m__calculo\u001b[0m\u001b[0;34m(\u001b[0m\u001b[0;34m)\u001b[0m\u001b[0;34m\u001b[0m\u001b[0;34m\u001b[0m\u001b[0m\n\u001b[0m",
      "\u001b[0;31mAttributeError\u001b[0m: 'Auto' object has no attribute '__calculo'"
     ]
    }
   ],
   "source": [
    "coche.__calculo()"
   ]
  },
  {
   "cell_type": "code",
   "execution_count": 36,
   "metadata": {},
   "outputs": [
    {
     "name": "stdout",
     "output_type": "stream",
     "text": [
      "El valor a pagar es: 2243.5\n"
     ]
    },
    {
     "data": {
      "text/plain": [
       "2243.5"
      ]
     },
     "execution_count": 36,
     "metadata": {},
     "output_type": "execute_result"
    }
   ],
   "source": [
    "coche.calcular_impuesto(2019)"
   ]
  },
  {
   "cell_type": "code",
   "execution_count": 40,
   "metadata": {},
   "outputs": [],
   "source": [
    "class Auto:\n",
    "    color = 'azul' #propiedad pública\n",
    "    placa = ''\n",
    "    __numero_calculo = 1234 #propiedad privada\n",
    "    \n",
    "    def __init__(self, placa): #Constructor\n",
    "        print('Se esta inicializando el auto')\n",
    "        self.placa = placa\n",
    "        \n",
    "    def __str__(self): #OVERRIDE -> Devuelve un 'str'\n",
    "        return f'Color: {self.color}\\n' +f'Placa: {self.placa}'\n",
    "    \n",
    "    def calcular_impuesto(self, anio): #Metodo público\n",
    "        total_a_pagar = self.__calculo(anio)\n",
    "        print(f'El valor a pagar es: {total_a_pagar}')\n",
    "        return total_a_pagar\n",
    "        \n",
    "    def __calculo(self, anio): #con doble guión bajo se convierte en método privado\n",
    "        return (anio/2) + self.__numero_calculo"
   ]
  },
  {
   "cell_type": "code",
   "execution_count": 38,
   "metadata": {},
   "outputs": [
    {
     "name": "stdout",
     "output_type": "stream",
     "text": [
      "Se esta inicializando el auto\n"
     ]
    }
   ],
   "source": [
    "coche = Auto('FVD-453')"
   ]
  },
  {
   "cell_type": "code",
   "execution_count": 42,
   "metadata": {},
   "outputs": [
    {
     "name": "stdout",
     "output_type": "stream",
     "text": [
      "Color: azul\n",
      "Placa: FVD-453\n"
     ]
    }
   ],
   "source": [
    "print(coche)"
   ]
  },
  {
   "cell_type": "code",
   "execution_count": 60,
   "metadata": {},
   "outputs": [],
   "source": [
    "class BMW(Auto):\n",
    "    \n",
    "    def __init__(self, placa, hp_motor = 3400): #Por defecto es 3400 o se puede ingresar\n",
    "        super().__init__(placa)\n",
    "        self.hp_motor = hp_motor #Inicializando propiedades\n",
    "        \n",
    "    def __str__(self):\n",
    "        return f'Color: {self.color}\\nPlaca: {self.placa}\\nHP Motor: {self.hp_motor}'"
   ]
  },
  {
   "cell_type": "code",
   "execution_count": 57,
   "metadata": {},
   "outputs": [
    {
     "name": "stdout",
     "output_type": "stream",
     "text": [
      "Se esta inicializando el auto\n"
     ]
    }
   ],
   "source": [
    "nuevo_BMW = BMW('FGB-645')"
   ]
  },
  {
   "cell_type": "code",
   "execution_count": 58,
   "metadata": {},
   "outputs": [
    {
     "data": {
      "text/plain": [
       "'FGB-645'"
      ]
     },
     "execution_count": 58,
     "metadata": {},
     "output_type": "execute_result"
    }
   ],
   "source": [
    "nuevo_BMW.placa"
   ]
  },
  {
   "cell_type": "code",
   "execution_count": 59,
   "metadata": {},
   "outputs": [
    {
     "name": "stdout",
     "output_type": "stream",
     "text": [
      "Color: azul\n",
      "Placa: FGB-645\n",
      "HP Motor: 3400\n"
     ]
    }
   ],
   "source": [
    "print(nuevo_BMW)"
   ]
  },
  {
   "cell_type": "code",
   "execution_count": 55,
   "metadata": {},
   "outputs": [
    {
     "name": "stdout",
     "output_type": "stream",
     "text": [
      "El valor a pagar es: 1405.0\n"
     ]
    },
    {
     "data": {
      "text/plain": [
       "1405.0"
      ]
     },
     "execution_count": 55,
     "metadata": {},
     "output_type": "execute_result"
    }
   ],
   "source": [
    "nuevo_BMW.calcular_impuesto(342)"
   ]
  },
  {
   "cell_type": "code",
   "execution_count": null,
   "metadata": {},
   "outputs": [],
   "source": []
  }
 ],
 "metadata": {
  "kernelspec": {
   "display_name": "Python 3",
   "language": "python",
   "name": "python3"
  },
  "language_info": {
   "codemirror_mode": {
    "name": "ipython",
    "version": 3
   },
   "file_extension": ".py",
   "mimetype": "text/x-python",
   "name": "python",
   "nbconvert_exporter": "python",
   "pygments_lexer": "ipython3",
   "version": "3.7.3"
  }
 },
 "nbformat": 4,
 "nbformat_minor": 2
}
