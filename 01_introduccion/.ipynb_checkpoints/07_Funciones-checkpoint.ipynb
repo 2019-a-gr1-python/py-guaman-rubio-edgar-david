{
 "cells": [
  {
   "cell_type": "code",
   "execution_count": 1,
   "metadata": {},
   "outputs": [],
   "source": [
    "def hola_mundo():\n",
    "    print('Hola Mundo')"
   ]
  },
  {
   "cell_type": "code",
   "execution_count": 2,
   "metadata": {},
   "outputs": [
    {
     "name": "stdout",
     "output_type": "stream",
     "text": [
      "Hola Mundo\n"
     ]
    }
   ],
   "source": [
    "hola_mundo()"
   ]
  },
  {
   "cell_type": "code",
   "execution_count": 3,
   "metadata": {},
   "outputs": [
    {
     "name": "stdout",
     "output_type": "stream",
     "text": [
      "Hola Mundo\n"
     ]
    },
    {
     "data": {
      "text/plain": [
       "NoneType"
      ]
     },
     "execution_count": 3,
     "metadata": {},
     "output_type": "execute_result"
    }
   ],
   "source": [
    "type(hola_mundo())"
   ]
  },
  {
   "cell_type": "code",
   "execution_count": 4,
   "metadata": {},
   "outputs": [
    {
     "data": {
      "text/plain": [
       "function"
      ]
     },
     "execution_count": 4,
     "metadata": {},
     "output_type": "execute_result"
    }
   ],
   "source": [
    "type(hola_mundo)"
   ]
  },
  {
   "cell_type": "code",
   "execution_count": 5,
   "metadata": {},
   "outputs": [],
   "source": [
    "def sumar_dos_numeros(num_uno, num_dos): #Parámetros obligatorios\n",
    "    return num_uno+num_dos"
   ]
  },
  {
   "cell_type": "code",
   "execution_count": 6,
   "metadata": {},
   "outputs": [
    {
     "name": "stdout",
     "output_type": "stream",
     "text": [
      "5\n"
     ]
    }
   ],
   "source": [
    "print(sumar_dos_numeros(2,3))"
   ]
  },
  {
   "cell_type": "code",
   "execution_count": 9,
   "metadata": {},
   "outputs": [
    {
     "name": "stdout",
     "output_type": "stream",
     "text": [
      "<class 'int'>\n"
     ]
    }
   ],
   "source": [
    "print(type(sumar_dos_numeros(1,2)))"
   ]
  },
  {
   "cell_type": "code",
   "execution_count": 10,
   "metadata": {},
   "outputs": [],
   "source": [
    "def imprimir_universidad(nombre = 'EPN'): #Parámetros opcionales\n",
    "    print(f\"Universidad: {nombre}\")"
   ]
  },
  {
   "cell_type": "code",
   "execution_count": 11,
   "metadata": {},
   "outputs": [
    {
     "name": "stdout",
     "output_type": "stream",
     "text": [
      "Universidad: EPN\n"
     ]
    }
   ],
   "source": [
    "imprimir_universidad()"
   ]
  },
  {
   "cell_type": "code",
   "execution_count": 12,
   "metadata": {},
   "outputs": [
    {
     "name": "stdout",
     "output_type": "stream",
     "text": [
      "Universidad: ESPE\n"
     ]
    }
   ],
   "source": [
    "imprimir_universidad('ESPE')"
   ]
  },
  {
   "cell_type": "code",
   "execution_count": 13,
   "metadata": {},
   "outputs": [],
   "source": [
    "def imprimir_carro(color, placa, hp, anio):\n",
    "    print(f\"Color: {color}\")\n",
    "    print(f\"Placa: {placa}\")\n",
    "    print(f\"Cabalos de fuerza: {hp}\")\n",
    "    print(f\"Año: {anio}\")"
   ]
  },
  {
   "cell_type": "code",
   "execution_count": 14,
   "metadata": {},
   "outputs": [
    {
     "name": "stdout",
     "output_type": "stream",
     "text": [
      "Color: Azul\n",
      "Placa: ABC-123\n",
      "Cabalos de fuerza: 3200\n",
      "Año: 2012\n"
     ]
    }
   ],
   "source": [
    "imprimir_carro('Azul', 'ABC-123', 3200, 2012)"
   ]
  },
  {
   "cell_type": "code",
   "execution_count": 16,
   "metadata": {},
   "outputs": [
    {
     "name": "stdout",
     "output_type": "stream",
     "text": [
      "Color: negro\n",
      "Placa: ABC-123\n",
      "Cabalos de fuerza: 3500\n",
      "Año: 2014\n"
     ]
    }
   ],
   "source": [
    "#Named parameters\n",
    "imprimir_carro(color='negro',placa='ABC-123',hp=3500,anio=2014)"
   ]
  },
  {
   "cell_type": "code",
   "execution_count": 17,
   "metadata": {},
   "outputs": [
    {
     "name": "stdout",
     "output_type": "stream",
     "text": [
      "Color: negro\n",
      "Placa: ABC-123\n",
      "Cabalos de fuerza: 3500\n",
      "Año: 2014\n"
     ]
    }
   ],
   "source": [
    "imprimir_carro(placa='ABC-123',anio=2014,color='negro',hp=3500)"
   ]
  },
  {
   "cell_type": "code",
   "execution_count": 19,
   "metadata": {},
   "outputs": [
    {
     "name": "stdout",
     "output_type": "stream",
     "text": [
      "Color: Negro\n",
      "Placa: XYZ-321\n",
      "Cabalos de fuerza: 3800\n",
      "Año: 2016\n"
     ]
    }
   ],
   "source": [
    "imprimir_carro('Negro',anio=2016,hp=3800,placa='XYZ-321')"
   ]
  },
  {
   "cell_type": "code",
   "execution_count": 28,
   "metadata": {},
   "outputs": [],
   "source": [
    "def sumar_numeros(primer_numero,*numeros): #Parámetros infinitos con asterisco\n",
    "    print(type(primer_numero))\n",
    "    print(type(numeros))\n",
    "    print(primer_numero)\n",
    "    total = 0\n",
    "    for numero in numeros:\n",
    "        print(f\"Numero: {numero}\")\n",
    "        total+=numero\n",
    "    return primer_numero + total"
   ]
  },
  {
   "cell_type": "code",
   "execution_count": 29,
   "metadata": {},
   "outputs": [
    {
     "name": "stdout",
     "output_type": "stream",
     "text": [
      "<class 'int'>\n",
      "<class 'tuple'>\n",
      "1\n",
      "Numero: 2\n",
      "Numero: 3\n",
      "Numero: 4\n",
      "Numero: 5\n",
      "Numero: 6\n",
      "Numero: 7\n"
     ]
    },
    {
     "data": {
      "text/plain": [
       "28"
      ]
     },
     "execution_count": 29,
     "metadata": {},
     "output_type": "execute_result"
    }
   ],
   "source": [
    "sumar_numeros(1,2,3,4,5,6,7)"
   ]
  },
  {
   "cell_type": "code",
   "execution_count": 30,
   "metadata": {},
   "outputs": [],
   "source": [
    "def libreria(nombre,conexion):\n",
    "    print(f\"Nombre: {nombre}\")\n",
    "    print(f\"Conexion: {conexion}\")"
   ]
  },
  {
   "cell_type": "code",
   "execution_count": 31,
   "metadata": {},
   "outputs": [
    {
     "name": "stdout",
     "output_type": "stream",
     "text": [
      "Nombre: JS\n",
      "Conexion: 192.168.2.3\n"
     ]
    }
   ],
   "source": [
    "libreria('JS','192.168.2.3')"
   ]
  },
  {
   "cell_type": "code",
   "execution_count": 35,
   "metadata": {},
   "outputs": [],
   "source": [
    "def libreria(nombre,conexion, **key_word_arguments):\n",
    "    print(f\"Nombre: {nombre}\")\n",
    "    print(f\"Conexion: {conexion}\")\n",
    "    print(type(key_word_arguments))\n",
    "    print(key_word_arguments['puerto'])"
   ]
  },
  {
   "cell_type": "code",
   "execution_count": 33,
   "metadata": {},
   "outputs": [
    {
     "name": "stdout",
     "output_type": "stream",
     "text": [
      "Nombre: JS\n",
      "Conexion: 192.168.2.3\n",
      "<class 'dict'>\n"
     ]
    }
   ],
   "source": [
    "libreria('JS','192.168.2.3')"
   ]
  },
  {
   "cell_type": "code",
   "execution_count": 34,
   "metadata": {},
   "outputs": [
    {
     "name": "stdout",
     "output_type": "stream",
     "text": [
      "Nombre: JS\n",
      "Conexion: 192.168.2.3\n",
      "<class 'dict'>\n"
     ]
    }
   ],
   "source": [
    "libreria('JS','192.168.2.3', puerto=3000)"
   ]
  },
  {
   "cell_type": "code",
   "execution_count": 36,
   "metadata": {},
   "outputs": [
    {
     "name": "stdout",
     "output_type": "stream",
     "text": [
      "Nombre: JS\n",
      "Conexion: 192.168.2.3\n",
      "<class 'dict'>\n",
      "3000\n"
     ]
    }
   ],
   "source": [
    "libreria('JS','192.168.2.3', puerto=3000)"
   ]
  },
  {
   "cell_type": "code",
   "execution_count": 48,
   "metadata": {},
   "outputs": [],
   "source": [
    "def libreria(nombre,conexion, **key_word_arguments):\n",
    "    print(f\"Nombre: {nombre}\")\n",
    "    print(f\"Conexion: {conexion}\")\n",
    "    for key in key_word_arguments.keys():\n",
    "        print(f\"{key.capitalize()}: {key_word_arguments[key]}\")"
   ]
  },
  {
   "cell_type": "code",
   "execution_count": 49,
   "metadata": {},
   "outputs": [
    {
     "name": "stdout",
     "output_type": "stream",
     "text": [
      "Nombre: JS\n",
      "Conexion: 192.168.2.3\n",
      "Puerto: 3000\n"
     ]
    }
   ],
   "source": [
    "libreria('JS','192.168.2.3', puerto=3000)"
   ]
  },
  {
   "cell_type": "code",
   "execution_count": 50,
   "metadata": {},
   "outputs": [
    {
     "name": "stdout",
     "output_type": "stream",
     "text": [
      "Nombre: JS\n",
      "Conexion: 192.168.2.3\n",
      "Puerto: 3000\n",
      "Version: 1.0\n"
     ]
    }
   ],
   "source": [
    "libreria('JS','192.168.2.3', puerto=3000, version='1.0')"
   ]
  },
  {
   "cell_type": "code",
   "execution_count": 51,
   "metadata": {},
   "outputs": [],
   "source": [
    "def funcion_completa(requerido, opcional='valor',*infinitos,**kwargs):\n",
    "    print(f'Requerido: {requerido}')\n",
    "    print(f'Opcional: {opcional}')\n",
    "    for x in infinitos:\n",
    "        print(f\"Infinito: {x}\")\n",
    "    for key in kwargs.keys():\n",
    "        print(f\"{key.capitalize()}: {kwargs[key]}\")"
   ]
  },
  {
   "cell_type": "code",
   "execution_count": null,
   "metadata": {},
   "outputs": [],
   "source": []
  }
 ],
 "metadata": {
  "kernelspec": {
   "display_name": "Python 3",
   "language": "python",
   "name": "python3"
  },
  "language_info": {
   "codemirror_mode": {
    "name": "ipython",
    "version": 3
   },
   "file_extension": ".py",
   "mimetype": "text/x-python",
   "name": "python",
   "nbconvert_exporter": "python",
   "pygments_lexer": "ipython3",
   "version": "3.7.3"
  }
 },
 "nbformat": 4,
 "nbformat_minor": 2
}
