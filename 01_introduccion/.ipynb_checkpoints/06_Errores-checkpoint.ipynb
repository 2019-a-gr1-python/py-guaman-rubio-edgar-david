{
 "cells": [
  {
   "cell_type": "markdown",
   "metadata": {},
   "source": [
    "# Errores"
   ]
  },
  {
   "cell_type": "code",
   "execution_count": 1,
   "metadata": {},
   "outputs": [],
   "source": [
    "usuario = {\n",
    "    'nombre': 'Edgar'\n",
    "}"
   ]
  },
  {
   "cell_type": "code",
   "execution_count": 2,
   "metadata": {},
   "outputs": [],
   "source": [
    "# usuario['asdf'] #KeyError\n",
    "# ++ #SyntaxError\n",
    "#asd.asd # NameError\n",
    "#\"1\"+1 #TypeError"
   ]
  },
  {
   "cell_type": "code",
   "execution_count": 6,
   "metadata": {},
   "outputs": [
    {
     "name": "stdout",
     "output_type": "stream",
     "text": [
      "Error: 'asd'\n"
     ]
    }
   ],
   "source": [
    "try:\n",
    "    usuario['asd']\n",
    "except Exception as error:\n",
    "    print(f\"Error: {error}\")"
   ]
  },
  {
   "cell_type": "code",
   "execution_count": 8,
   "metadata": {},
   "outputs": [
    {
     "name": "stdout",
     "output_type": "stream",
     "text": [
      "Error: 'asd'\n",
      "Traceback: <traceback object at 0x10bb14288>\n"
     ]
    }
   ],
   "source": [
    "try:\n",
    "    usuario['asd']\n",
    "except Exception as error:\n",
    "    print(f\"Error: {error}\")\n",
    "    print(f\"Traceback: {error.__traceback__}\")"
   ]
  },
  {
   "cell_type": "code",
   "execution_count": 9,
   "metadata": {},
   "outputs": [
    {
     "name": "stdout",
     "output_type": "stream",
     "text": [
      "Error: name 'asd' is not defined KEY ERROR\n",
      "Traceback: <traceback object at 0x10bb87888>\n"
     ]
    }
   ],
   "source": [
    "try:\n",
    "    usuario['nombre']\n",
    "    asd.asd\n",
    "except Exception as error:\n",
    "    print(f\"Error: {error} KEY ERROR\")\n",
    "    print(f\"Traceback: {error.__traceback__}\")"
   ]
  },
  {
   "cell_type": "code",
   "execution_count": 10,
   "metadata": {},
   "outputs": [
    {
     "name": "stdout",
     "output_type": "stream",
     "text": [
      "Error: name 'asd' is not defined TYPE ERROR\n"
     ]
    }
   ],
   "source": [
    "try:\n",
    "    usuario['nombre']\n",
    "    asd.asd\n",
    "except (NameError) as nameError:\n",
    "    print(f\"Error: {nameError} TYPE ERROR\")\n",
    "except Exception as error:\n",
    "    print(f\"Error: {error}\")\n",
    "    print(f\"Traceback: {error.__traceback__}\")"
   ]
  },
  {
   "cell_type": "code",
   "execution_count": 11,
   "metadata": {},
   "outputs": [
    {
     "name": "stdout",
     "output_type": "stream",
     "text": [
      "Error: can only concatenate str (not \"int\") to str TYPE ERROR\n"
     ]
    }
   ],
   "source": [
    "try:\n",
    "    usuario['nombre']\n",
    "    \"1\"+1\n",
    "    asd.asd\n",
    "except (NameError) as nameError:\n",
    "    print(f\"Error: {nameError} NAME ERROR\")\n",
    "except TypeError as TypeError:\n",
    "    print(f\"Error: {TypeError} TYPE ERROR\")\n",
    "except Exception as error:\n",
    "    print(f\"Error: {error}\")\n",
    "    print(f\"Traceback: {error.__traceback__}\")"
   ]
  },
  {
   "cell_type": "code",
   "execution_count": 14,
   "metadata": {},
   "outputs": [
    {
     "name": "stdout",
     "output_type": "stream",
     "text": [
      "Edgar\n",
      "Error: 'asd' TYPE or KEY ERROR\n"
     ]
    }
   ],
   "source": [
    "try:\n",
    "    print(usuario['nombre'])\n",
    "    usuario['asd']\n",
    "    \"1\"+1\n",
    "    asd.asd\n",
    "except NameError as nameError:\n",
    "    print(f\"Error: {nameError} NAME ERROR\")\n",
    "except (TypeError, KeyError) as TypeError:\n",
    "    print(f\"Error: {TypeError} TYPE or KEY ERROR\")\n",
    "except Exception as error:\n",
    "    print(f\"Error: {error}\")\n",
    "    print(f\"Traceback: {error.__traceback__}\")"
   ]
  },
  {
   "cell_type": "code",
   "execution_count": null,
   "metadata": {},
   "outputs": [],
   "source": []
  }
 ],
 "metadata": {
  "kernelspec": {
   "display_name": "Python 3",
   "language": "python",
   "name": "python3"
  },
  "language_info": {
   "codemirror_mode": {
    "name": "ipython",
    "version": 3
   },
   "file_extension": ".py",
   "mimetype": "text/x-python",
   "name": "python",
   "nbconvert_exporter": "python",
   "pygments_lexer": "ipython3",
   "version": "3.7.1"
  }
 },
 "nbformat": 4,
 "nbformat_minor": 2
}
