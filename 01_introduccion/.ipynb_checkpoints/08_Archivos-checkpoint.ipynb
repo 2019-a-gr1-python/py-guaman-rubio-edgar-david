{
 "cells": [
  {
   "cell_type": "markdown",
   "metadata": {},
   "source": [
    "# Archivos"
   ]
  },
  {
   "cell_type": "code",
   "execution_count": 12,
   "metadata": {},
   "outputs": [
    {
     "name": "stdout",
     "output_type": "stream",
     "text": [
      "['Buenos días\\n', 'Buenas tardes\\n', 'Buenas noches']\n",
      "<class 'list'>\n",
      "Buenos días\n",
      "\n",
      "Buenas tardes\n",
      "\n",
      "Buenas noches\n"
     ]
    }
   ],
   "source": [
    "try:\n",
    "    path = './08_archivos.txt'\n",
    "    archivo_abierto = open(path)\n",
    "    #print(archivo_abierto)\n",
    "    #print(type(archivo_abierto))\n",
    "    #linea_leida = archivo_abierto.readline()\n",
    "    #print(linea_leida)\n",
    "    #print(type(linea_leida))\n",
    "    #linea_leida_dos = archivo_abierto.readline()\n",
    "    #print(linea_leida_dos)\n",
    "    #print(type(linea_leida_dos))\n",
    "    \n",
    "    lineas_archivo = archivo_abierto.readlines()\n",
    "    print(lineas_archivo)\n",
    "    print(type(lineas_archivo))\n",
    "    \n",
    "    for linea in lineas_archivo:\n",
    "        print(linea)\n",
    "    \n",
    "    archivo_abierto.close()\n",
    "except:\n",
    "    print('Error abriendo archivo')"
   ]
  },
  {
   "cell_type": "code",
   "execution_count": 13,
   "metadata": {},
   "outputs": [],
   "source": [
    "try:\n",
    "    path = './08_archivos.txt'\n",
    "    archivo_escritura_abierto = open(path, mode='w') #Con w se sobreescribe el archivo\n",
    "    archivo_escritura_abierto.write('Buenas las tengan')\n",
    "    archivo_escritura_abierto.close()\n",
    "except:\n",
    "    print('Error abriendo archivo')"
   ]
  },
  {
   "cell_type": "code",
   "execution_count": 16,
   "metadata": {},
   "outputs": [],
   "source": [
    "try:\n",
    "    path = './08_archivos.txt'\n",
    "    archivo_escritura_abierto = open(path, mode='a') #Con 'a' se agrega al final del archivo\n",
    "    archivo_escritura_abierto.write('y con ellas se entretengan \\n')\n",
    "    archivo_escritura_abierto.close()\n",
    "except:\n",
    "    print('Error abriendo archivo')"
   ]
  },
  {
   "cell_type": "code",
   "execution_count": 18,
   "metadata": {},
   "outputs": [
    {
     "name": "stdout",
     "output_type": "stream",
     "text": [
      "Error abriendo archivo\n"
     ]
    }
   ],
   "source": [
    "try:\n",
    "    path = './08_archivos.txt'\n",
    "    archivo_escritura_abierto = open(path, mode='a') #Con 'a' se agrega al final del archivo\n",
    "    archivo_escritura_abierto.write('y con ellas gozen')\n",
    "    archivo_escritura_abierto.writelineste(['que así sea\\n', 'amen\\n'])\n",
    "    archivo_escritura_abierto.close()\n",
    "except:\n",
    "    print('Error abriendo archivo')"
   ]
  },
  {
   "cell_type": "code",
   "execution_count": null,
   "metadata": {},
   "outputs": [],
   "source": []
  },
  {
   "cell_type": "code",
   "execution_count": null,
   "metadata": {},
   "outputs": [],
   "source": []
  }
 ],
 "metadata": {
  "kernelspec": {
   "display_name": "Python 3",
   "language": "python",
   "name": "python3"
  },
  "language_info": {
   "codemirror_mode": {
    "name": "ipython",
    "version": 3
   },
   "file_extension": ".py",
   "mimetype": "text/x-python",
   "name": "python",
   "nbconvert_exporter": "python",
   "pygments_lexer": "ipython3",
   "version": "3.7.1"
  }
 },
 "nbformat": 4,
 "nbformat_minor": 2
}
