{
 "cells": [
  {
   "cell_type": "markdown",
   "metadata": {},
   "source": [
    "# Diccionarios"
   ]
  },
  {
   "cell_type": "code",
   "execution_count": 3,
   "metadata": {},
   "outputs": [],
   "source": [
    "# JSON -> Diccionario\n",
    "usuario = {\n",
    "    'nombre': 'Edgar',\n",
    "    'apellido': 'Guaman',\n",
    "    'edad': 23,\n",
    "    'hijos': None,\n",
    "    'casado': False,\n",
    "    'sueldo': 123.43,\n",
    "    'mascotas': [\n",
    "        {'nombre': 'Loky',\n",
    "        'edad': 5\n",
    "        }\n",
    "    ],\n",
    "    'carro': (0,1,2)\n",
    "}"
   ]
  },
  {
   "cell_type": "code",
   "execution_count": 4,
   "metadata": {},
   "outputs": [
    {
     "data": {
      "text/plain": [
       "'Edgar'"
      ]
     },
     "execution_count": 4,
     "metadata": {},
     "output_type": "execute_result"
    }
   ],
   "source": [
    "usuario['nombre']"
   ]
  },
  {
   "cell_type": "code",
   "execution_count": 6,
   "metadata": {},
   "outputs": [
    {
     "data": {
      "text/plain": [
       "[{'nombre': 'Loky', 'edad': 5}]"
      ]
     },
     "execution_count": 6,
     "metadata": {},
     "output_type": "execute_result"
    }
   ],
   "source": [
    "usuario['mascotas']"
   ]
  },
  {
   "cell_type": "code",
   "execution_count": 7,
   "metadata": {},
   "outputs": [
    {
     "data": {
      "text/plain": [
       "{'nombre': 'Loky', 'edad': 5}"
      ]
     },
     "execution_count": 7,
     "metadata": {},
     "output_type": "execute_result"
    }
   ],
   "source": [
    "usuario['mascotas'][0]"
   ]
  },
  {
   "cell_type": "code",
   "execution_count": 9,
   "metadata": {},
   "outputs": [
    {
     "data": {
      "text/plain": [
       "'Loky'"
      ]
     },
     "execution_count": 9,
     "metadata": {},
     "output_type": "execute_result"
    }
   ],
   "source": [
    "usuario['mascotas'][0]['nombre']"
   ]
  },
  {
   "cell_type": "code",
   "execution_count": 10,
   "metadata": {},
   "outputs": [
    {
     "data": {
      "text/plain": [
       "[{'nombre': 'Loky', 'edad': 5}]"
      ]
     },
     "execution_count": 10,
     "metadata": {},
     "output_type": "execute_result"
    }
   ],
   "source": [
    "usuario.get('mascotas')"
   ]
  },
  {
   "cell_type": "code",
   "execution_count": 11,
   "metadata": {},
   "outputs": [
    {
     "data": {
      "text/plain": [
       "'Guaman'"
      ]
     },
     "execution_count": 11,
     "metadata": {},
     "output_type": "execute_result"
    }
   ],
   "source": [
    "usuario.pop('apellido')"
   ]
  },
  {
   "cell_type": "code",
   "execution_count": 12,
   "metadata": {},
   "outputs": [
    {
     "name": "stdout",
     "output_type": "stream",
     "text": [
      "{'nombre': 'Edgar', 'edad': 23, 'hijos': None, 'casado': False, 'sueldo': 123.43, 'mascotas': [{'nombre': 'Loky', 'edad': 5}], 'carro': (0, 1, 2)}\n"
     ]
    }
   ],
   "source": [
    "print(usuario)"
   ]
  },
  {
   "cell_type": "code",
   "execution_count": 13,
   "metadata": {},
   "outputs": [
    {
     "data": {
      "text/plain": [
       "{'nombre': 'Edgar',\n",
       " 'edad': 23,\n",
       " 'hijos': None,\n",
       " 'casado': False,\n",
       " 'sueldo': 123.43,\n",
       " 'mascotas': [{'nombre': 'Loky', 'edad': 5}],\n",
       " 'carro': (0, 1, 2)}"
      ]
     },
     "execution_count": 13,
     "metadata": {},
     "output_type": "execute_result"
    }
   ],
   "source": [
    "usuario"
   ]
  },
  {
   "cell_type": "code",
   "execution_count": 14,
   "metadata": {},
   "outputs": [
    {
     "data": {
      "text/plain": [
       "dict_values(['Edgar', 23, None, False, 123.43, [{'nombre': 'Loky', 'edad': 5}], (0, 1, 2)])"
      ]
     },
     "execution_count": 14,
     "metadata": {},
     "output_type": "execute_result"
    }
   ],
   "source": [
    "usuario.values()"
   ]
  },
  {
   "cell_type": "code",
   "execution_count": 15,
   "metadata": {},
   "outputs": [
    {
     "data": {
      "text/plain": [
       "dict_keys(['nombre', 'edad', 'hijos', 'casado', 'sueldo', 'mascotas', 'carro'])"
      ]
     },
     "execution_count": 15,
     "metadata": {},
     "output_type": "execute_result"
    }
   ],
   "source": [
    "usuario.keys()"
   ]
  },
  {
   "cell_type": "code",
   "execution_count": 16,
   "metadata": {},
   "outputs": [
    {
     "data": {
      "text/plain": [
       "dict_values"
      ]
     },
     "execution_count": 16,
     "metadata": {},
     "output_type": "execute_result"
    }
   ],
   "source": [
    "type(usuario.values())"
   ]
  },
  {
   "cell_type": "code",
   "execution_count": 17,
   "metadata": {},
   "outputs": [
    {
     "data": {
      "text/plain": [
       "dict_keys"
      ]
     },
     "execution_count": 17,
     "metadata": {},
     "output_type": "execute_result"
    }
   ],
   "source": [
    "type(usuario.keys())"
   ]
  },
  {
   "cell_type": "code",
   "execution_count": 19,
   "metadata": {},
   "outputs": [
    {
     "name": "stdout",
     "output_type": "stream",
     "text": [
      "Llave: nombre Valor: Edgar\n",
      "Llave: edad Valor: 23\n",
      "Llave: hijos Valor: None\n",
      "Llave: casado Valor: False\n",
      "Llave: sueldo Valor: 123.43\n",
      "Llave: mascotas Valor: [{'nombre': 'Loky', 'edad': 5}]\n",
      "Llave: carro Valor: (0, 1, 2)\n"
     ]
    }
   ],
   "source": [
    "for key in usuario.keys():\n",
    "    print(f\"Llave: {key} Valor: {usuario[key]}\")"
   ]
  },
  {
   "cell_type": "code",
   "execution_count": 20,
   "metadata": {},
   "outputs": [
    {
     "data": {
      "text/plain": [
       "{'nombre': 'Edgar',\n",
       " 'edad': 23,\n",
       " 'hijos': None,\n",
       " 'casado': False,\n",
       " 'sueldo': 123.43,\n",
       " 'mascotas': [{'nombre': 'Loky', 'edad': 5}],\n",
       " 'carro': (0, 1, 2)}"
      ]
     },
     "execution_count": 20,
     "metadata": {},
     "output_type": "execute_result"
    }
   ],
   "source": [
    "usuario"
   ]
  },
  {
   "cell_type": "code",
   "execution_count": 22,
   "metadata": {},
   "outputs": [],
   "source": [
    "usuario['apellido']='Guaman'"
   ]
  },
  {
   "cell_type": "code",
   "execution_count": 23,
   "metadata": {},
   "outputs": [
    {
     "data": {
      "text/plain": [
       "{'nombre': 'Edgar',\n",
       " 'edad': 23,\n",
       " 'hijos': None,\n",
       " 'casado': False,\n",
       " 'sueldo': 123.43,\n",
       " 'mascotas': [{'nombre': 'Loky', 'edad': 5}],\n",
       " 'carro': (0, 1, 2),\n",
       " 'apellido': 'Guaman'}"
      ]
     },
     "execution_count": 23,
     "metadata": {},
     "output_type": "execute_result"
    }
   ],
   "source": [
    "usuario"
   ]
  },
  {
   "cell_type": "code",
   "execution_count": 24,
   "metadata": {},
   "outputs": [],
   "source": [
    "valores_nuevos = {\n",
    "    'thalia': 'Thalia',\n",
    "    'rafael': 'Rafael',\n",
    "    'xuxa': 'Xuxa'\n",
    "}"
   ]
  },
  {
   "cell_type": "code",
   "execution_count": 25,
   "metadata": {},
   "outputs": [],
   "source": [
    "usuario.update(valores_nuevos)"
   ]
  },
  {
   "cell_type": "code",
   "execution_count": 26,
   "metadata": {},
   "outputs": [
    {
     "data": {
      "text/plain": [
       "{'nombre': 'Edgar',\n",
       " 'edad': 23,\n",
       " 'hijos': None,\n",
       " 'casado': False,\n",
       " 'sueldo': 123.43,\n",
       " 'mascotas': [{'nombre': 'Loky', 'edad': 5}],\n",
       " 'carro': (0, 1, 2),\n",
       " 'apellido': 'Guaman',\n",
       " 'thalia': 'Thalia',\n",
       " 'rafael': 'Rafael',\n",
       " 'xuxa': 'Xuxa'}"
      ]
     },
     "execution_count": 26,
     "metadata": {},
     "output_type": "execute_result"
    }
   ],
   "source": [
    "usuario"
   ]
  },
  {
   "cell_type": "code",
   "execution_count": 27,
   "metadata": {},
   "outputs": [],
   "source": [
    "mascotas_nuevas = {\n",
    "    'nombre': 'Manchas',\n",
    "    'edad': 10,\n",
    "    'nombre': 'Frodo',\n",
    "    'edad': 6\n",
    "}"
   ]
  },
  {
   "cell_type": "code",
   "execution_count": 28,
   "metadata": {},
   "outputs": [],
   "source": [
    "usuario.get('mascotas')[0].update(mascotas_nuevas)"
   ]
  },
  {
   "cell_type": "code",
   "execution_count": 29,
   "metadata": {},
   "outputs": [
    {
     "data": {
      "text/plain": [
       "{'nombre': 'Edgar',\n",
       " 'edad': 23,\n",
       " 'hijos': None,\n",
       " 'casado': False,\n",
       " 'sueldo': 123.43,\n",
       " 'mascotas': [{'nombre': 'Frodo', 'edad': 6}],\n",
       " 'carro': (0, 1, 2),\n",
       " 'apellido': 'Guaman',\n",
       " 'thalia': 'Thalia',\n",
       " 'rafael': 'Rafael',\n",
       " 'xuxa': 'Xuxa'}"
      ]
     },
     "execution_count": 29,
     "metadata": {},
     "output_type": "execute_result"
    }
   ],
   "source": [
    "usuario"
   ]
  },
  {
   "cell_type": "code",
   "execution_count": 31,
   "metadata": {},
   "outputs": [],
   "source": [
    "usuario.get('asd')"
   ]
  },
  {
   "cell_type": "code",
   "execution_count": 33,
   "metadata": {},
   "outputs": [],
   "source": [
    "#usuario['asd']"
   ]
  },
  {
   "cell_type": "code",
   "execution_count": null,
   "metadata": {},
   "outputs": [],
   "source": []
  }
 ],
 "metadata": {
  "kernelspec": {
   "display_name": "Python 3",
   "language": "python",
   "name": "python3"
  },
  "language_info": {
   "codemirror_mode": {
    "name": "ipython",
    "version": 3
   },
   "file_extension": ".py",
   "mimetype": "text/x-python",
   "name": "python",
   "nbconvert_exporter": "python",
   "pygments_lexer": "ipython3",
   "version": "3.7.3"
  }
 },
 "nbformat": 4,
 "nbformat_minor": 2
}
